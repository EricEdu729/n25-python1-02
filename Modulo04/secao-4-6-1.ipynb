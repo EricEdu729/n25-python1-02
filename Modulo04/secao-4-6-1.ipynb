{
 "cells": [
  {
   "cell_type": "markdown",
   "metadata": {},
   "source": [
    "# 4.6.1 - Tuplas e dicionarios\n",
    "### Tuplas\n"
   ]
  },
  {
   "cell_type": "code",
   "execution_count": 4,
   "metadata": {},
   "outputs": [
    {
     "name": "stdout",
     "output_type": "stream",
     "text": [
      "() (1, 2) (1, 2)\n",
      "(1,)\n"
     ]
    }
   ],
   "source": [
    "# Definindo uma tuplas vazia \n",
    "tupla = ()\n",
    "# Definindo uma tupla com 2 elementos\n",
    "tupla_v1 = (1,2)\n",
    "tupla_v2 = 1,2\n",
    "print(tupla, tupla_v1, tupla_v2)\n",
    "# Definindo uma tuplas com 1 elemento\n",
    "tupla_v3 = (1,)\n",
    "print(tupla_v3)\n",
    "\n"
   ]
  },
  {
   "cell_type": "code",
   "execution_count": 10,
   "metadata": {},
   "outputs": [
    {
     "name": "stdout",
     "output_type": "stream",
     "text": [
      "(1, 2, 3, 4, 5, 6, 7, 8)\n",
      "(2, 3, 4, 5, 6, 7)\n",
      "True\n",
      "False\n"
     ]
    }
   ],
   "source": [
    "# Operadores com tuplas\n",
    "tupla =(1,2,3,4,5)\n",
    "# tupla.append(6) # Isso não pode\n",
    "# tupla.insert(1,6) # Isso mão pode tambem\n",
    "# del tupla[2] # Isso tambem não pode\n",
    "# tupla[4] = 10 # Isso tambem não é permitido \n",
    "tupla = tupla + (6,7,8)\n",
    "print(tupla)\n",
    "print(tupla[1:-1]) # Fatiamento é possivel também\n",
    "print(6 in tupla)\n",
    "print(5 not in tupla) # not in pode\n",
    "\n",
    "\n"
   ]
  },
  {
   "cell_type": "markdown",
   "metadata": {},
   "source": [
    "### Dicionario\n"
   ]
  },
  {
   "cell_type": "code",
   "execution_count": 27,
   "metadata": {},
   "outputs": [
    {
     "name": "stdout",
     "output_type": "stream",
     "text": [
      "Eric Eduardo\n",
      "{'nome': 'Eric Eduardo', 'endereço': 'Rua das oliveiras, 207', 'telefone': '14998896115'}\n",
      "3\n",
      "True\n",
      "False\n",
      "dict_keys(['nome', 'endereço', 'telefone'])\n",
      "dict_values(['Eric Eduardo', 'Rua das oliveiras, 207', '14998896115'])\n",
      "dict_items([('nome', 'Eric Eduardo'), ('endereço', 'Rua das oliveiras, 207'), ('telefone', '14998896115')])\n",
      "nome, endereço, telefone, \n",
      "Eric Eduardo, Rua das oliveiras, 207, 14998896115, \n",
      "nome = Eric Eduardo, endereço = Rua das oliveiras, 207, telefone = 14998896115, "
     ]
    }
   ],
   "source": [
    "dic = { \"nome\": \"Eric Eduardo\", \"endereço\": \"Rua das oliveiras, 207\" }\n",
    "print(dic[\"nome\"])\n",
    "dic[\"telefone\"] = \"14998896115\"\n",
    "print(dic)\n",
    "print(len(dic))\n",
    "print(\"nome\" in dic)\n",
    "print(\"celular \" in dic)\n",
    "print(dic.keys())\n",
    "print(dic.values())\n",
    "print(dic.items())\n",
    "for el in dic.keys(): print(el,end=\", \")\n",
    "print()\n",
    "for el in dic.values(): print(el,end=\", \")\n",
    "print()\n",
    "for ch,vl in dic.items(): print(ch,\"=\",vl,end=\", \")\n",
    "\n"
   ]
  },
  {
   "cell_type": "code",
   "execution_count": 28,
   "metadata": {},
   "outputs": [
    {
     "name": "stdout",
     "output_type": "stream",
     "text": [
      "{'nome': 'Eric Eduardo', 'endereço': 'Rua das oliveiras, 207'}\n"
     ]
    }
   ],
   "source": [
    "del dic[\"telefone\"] # quando alterado ele vai retirando as informações do banco de dados \n",
    "print(dic)"
   ]
  }
 ],
 "metadata": {
  "kernelspec": {
   "display_name": ".venv",
   "language": "python",
   "name": "python3"
  },
  "language_info": {
   "codemirror_mode": {
    "name": "ipython",
    "version": 3
   },
   "file_extension": ".py",
   "mimetype": "text/x-python",
   "name": "python",
   "nbconvert_exporter": "python",
   "pygments_lexer": "ipython3",
   "version": "3.13.2"
  }
 },
 "nbformat": 4,
 "nbformat_minor": 2
}
