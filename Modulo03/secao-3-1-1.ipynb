{
 "cells": [
  {
   "cell_type": "markdown",
   "metadata": {},
   "source": [
    "# tomada de decisão \n",
    "## operações relacionais \n",
    "### Operador de igualdade (==)"
   ]
  },
  {
   "cell_type": "code",
   "execution_count": 7,
   "metadata": {},
   "outputs": [
    {
     "name": "stdout",
     "output_type": "stream",
     "text": [
      "False\n",
      "True\n",
      "True\n",
      "True\n"
     ]
    }
   ],
   "source": [
    "print( 1 == 2)\n",
    "print( 1 == 1)\n",
    "print( 1 == 1.0)\n",
    "print( 2 == 0b10) # binary 2\n"
   ]
  },
  {
   "cell_type": "markdown",
   "metadata": {},
   "source": [
    "### operador de desigualdade ( !=)"
   ]
  },
  {
   "cell_type": "code",
   "execution_count": 8,
   "metadata": {},
   "outputs": [
    {
     "name": "stdout",
     "output_type": "stream",
     "text": [
      "True\n",
      "False\n",
      "False\n",
      "False\n"
     ]
    }
   ],
   "source": [
    "print( 1 != 2)\n",
    "print( 1 != 1)\n",
    "print( 1 != 1.0)\n",
    "print( 2 != 0b10) # binary 2"
   ]
  },
  {
   "cell_type": "markdown",
   "metadata": {},
   "source": [
    "### Operador maior que ( > ) e maior igual a ( >= )"
   ]
  },
  {
   "cell_type": "code",
   "execution_count": 9,
   "metadata": {},
   "outputs": [
    {
     "name": "stdout",
     "output_type": "stream",
     "text": [
      "False\n",
      "True\n",
      "True\n",
      "True\n"
     ]
    }
   ],
   "source": [
    "print( 1>  2)\n",
    "print( 2 > 1)\n",
    "print( 2 >= 1)\n",
    "print( 2 >= 0b10 ) # binary 2"
   ]
  },
  {
   "cell_type": "markdown",
   "metadata": {},
   "source": [
    "### operador menor que ( < ) e menor igual a ( <= )\n"
   ]
  },
  {
   "cell_type": "code",
   "execution_count": 10,
   "metadata": {},
   "outputs": [
    {
     "name": "stdout",
     "output_type": "stream",
     "text": [
      "True\n",
      "False\n",
      "False\n",
      "True\n"
     ]
    }
   ],
   "source": [
    "print( 1 < 2)\n",
    "print( 2 < 1)\n",
    "print( 2 <= 1)\n",
    "print( 2 <= 0b10 ) # binary 2"
   ]
  },
  {
   "cell_type": "markdown",
   "metadata": {},
   "source": [
    "### Atualizando a lista de prioridades de operadores\n",
    "| seq | Operador | Descrição | \n",
    "| - | - | - |\n",
    "| 1 | ** | Exponenciação |\n",
    "| 2 | +, - | Unarios Sinal |\n",
    "| 3 | *,/,//,% | Multiplicação, divisões e resto\n",
    "| 4 | +,- | Soma e subtração |\n",
    "| 5 | >, >=, <, <= | Maior, maior igual igual, menor , menor , menor igual\n",
    "| 6 | ==, != | Igualdade e diferença |\n"
   ]
  },
  {
   "cell_type": "markdown",
   "metadata": {},
   "source": [
    "### Operador if (se)\n",
    "sintaxe:\n",
    "if condicao_verdade:\n",
    "    comando_a_ser_executado1()\n",
    "    comando_a_ser_executado2()\n",
    "if comando2:\n",
    "     comando_03()    "
   ]
  },
  {
   "cell_type": "code",
   "execution_count": 16,
   "metadata": {},
   "outputs": [
    {
     "name": "stdout",
     "output_type": "stream",
     "text": [
      "fim do programa\n"
     ]
    }
   ],
   "source": [
    "idade = int(input(\"Digite sua idade: \"))\n",
    "if idade >= 18:\n",
    "    print(\"Voce é maior de idade\")\n",
    "    print(\"Voce pode dirigir, se habilitado!\")\n",
    "print(\"fim do programa\")"
   ]
  },
  {
   "cell_type": "markdown",
   "metadata": {},
   "source": [
    "### Instrutução else\n"
   ]
  },
  {
   "cell_type": "code",
   "execution_count": 17,
   "metadata": {},
   "outputs": [
    {
     "name": "stdout",
     "output_type": "stream",
     "text": [
      "Voce é maior de idade\n",
      "Voce pode dirigir, se habilitado!\n",
      "Fim do programa\n"
     ]
    }
   ],
   "source": [
    "idade = int(input(\"Digite sua idade: \"))\n",
    "if idade >= 18:\n",
    "    print(\"Voce é maior de idade\")\n",
    "    print(\"Voce pode dirigir, se habilitado!\")\n",
    "else:\n",
    "    print(\"Você e´menor de idade\")\n",
    "    print(\"Você não pode dirigir\")\n",
    "print(\"Fim do programa\")    "
   ]
  },
  {
   "cell_type": "markdown",
   "metadata": {},
   "source": [
    "### if encadeado"
   ]
  },
  {
   "cell_type": "code",
   "execution_count": 19,
   "metadata": {},
   "outputs": [
    {
     "name": "stdout",
     "output_type": "stream",
     "text": [
      "Voce é maior de idade\n",
      "Voce pode dirigir, se habilitado!\n",
      "Fim do programa\n"
     ]
    }
   ],
   "source": [
    "idade = int(input(\"Digite sua idade: \"))\n",
    "if idade >= 18:\n",
    "    print(\"Voce é maior de idade\")\n",
    "    print(\"Voce pode dirigir, se habilitado!\")\n",
    "    if idade >= 70:\n",
    "        print(\"Voce deve fazer exames medicos anuais\")\n",
    "    else:\n",
    "        if idade >= 65:\n",
    "            print(\"Voce deve fazer exames medicos a cada 2 anos\")\n",
    "else:                \n",
    "    print(\"Você e´menor de idade\")\n",
    "    print(\"Você não pode dirigir\")\n",
    "print(\"Fim do programa\")  "
   ]
  },
  {
   "cell_type": "markdown",
   "metadata": {},
   "source": [
    "### instrução elif"
   ]
  },
  {
   "cell_type": "code",
   "execution_count": 25,
   "metadata": {},
   "outputs": [
    {
     "name": "stdout",
     "output_type": "stream",
     "text": [
      "Voce é maior de idade\n",
      "Voce pode dirigir, se habilitado\n"
     ]
    }
   ],
   "source": [
    "idade = int(input(\"Digite sua idade: \"))\n",
    "if idade >= 70:\n",
    "    print(\"Voce é maior de idade\")\n",
    "    print(\"Voce pode dirigir, se habilitado!\")\n",
    "    print(\"Voce deve fazer exames manuais\")\n",
    "elif idade >= 65:\n",
    "    print(\"Voce é maior de idade\")\n",
    "    print(\"Voce pode dirigir, se habilitado!\")\n",
    "    print(\"Voce deve fazer exames medicos a cada 2 anos\")\n",
    "elif idade >= 18:\n",
    "    print(\"Voce é maior de idade\")\n",
    "    print(\"Voce pode dirigir, se habilitado\")\n",
    "else:\n",
    "    print(\"Voce é menor de idade\")     "
   ]
  },
  {
   "cell_type": "code",
   "execution_count": 32,
   "metadata": {},
   "outputs": [
    {
     "name": "stdout",
     "output_type": "stream",
     "text": [
      "O maior numero é: 11\n"
     ]
    }
   ],
   "source": [
    "# obtendo o maior numuero entre dois numeros\n",
    "num1 = int(input(\"Digite o primeiro numero:\" ))\n",
    "num2 = int(input(\"Digite o segundo numero: \"))\n",
    "maior = num1\n",
    "if num1 > maior:\n",
    "    maior = num1\n",
    "if num2 > maior: \n",
    "    maior = num2  \n",
    "    print(\"O maior numero é:\", maior)"
   ]
  }
 ],
 "metadata": {
  "kernelspec": {
   "display_name": ".venv",
   "language": "python",
   "name": "python3"
  },
  "language_info": {
   "codemirror_mode": {
    "name": "ipython",
    "version": 3
   },
   "file_extension": ".py",
   "mimetype": "text/x-python",
   "name": "python",
   "nbconvert_exporter": "python",
   "pygments_lexer": "ipython3",
   "version": "3.13.2"
  }
 },
 "nbformat": 4,
 "nbformat_minor": 2
}
