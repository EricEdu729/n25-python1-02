{
 "cells": [
  {
   "cell_type": "markdown",
   "metadata": {},
   "source": [
    "### ramo else para for - 3.2.12"
   ]
  },
  {
   "cell_type": "code",
   "execution_count": 5,
   "metadata": {},
   "outputs": [
    {
     "name": "stdout",
     "output_type": "stream",
     "text": [
      "else: 1\n",
      "else: 2\n"
     ]
    }
   ],
   "source": [
    "\n",
    "for i in range(1,5):\n",
    "    if i==3: break # pode ser 1 linha desde que 1 instrução\n",
    "    print(\"else:\", i)\n",
    "else: print(\"else:\",i) # Só não passa se ocorrer break no laço    \n",
    "\n"
   ]
  },
  {
   "cell_type": "markdown",
   "metadata": {},
   "source": [
    "\n",
    "### 3.2.14   LAB   Essenciais do loop while\n",
    "\n"
   ]
  },
  {
   "cell_type": "code",
   "execution_count": 10,
   "metadata": {},
   "outputs": [
    {
     "name": "stdout",
     "output_type": "stream",
     "text": [
      "A altura da pirâmide: 2\n"
     ]
    }
   ],
   "source": [
    "blocks = int(input(\"Insira o número de blocos:\"))  \n",
    " # Escreva seu código aqui.\n",
    "altura = 0\n",
    "total_blocos = 0\n",
    "while total_blocos < blocks:\n",
    "    altura += 1\n",
    "    total_blocos += altura \n",
    "\n",
    "\n",
    "\n",
    "#\n",
    "\n",
    "print(\"A altura da pirâmide:\", altura)\n"
   ]
  },
  {
   "cell_type": "markdown",
   "metadata": {},
   "source": [
    "### \n",
    "Fazer um programa que solicite um numero e retorno a raiz\n",
    "aproximada do numero.\n",
    "Você deve usar laço for, if e break\n",
    "\n"
   ]
  },
  {
   "cell_type": "code",
   "execution_count": 28,
   "metadata": {},
   "outputs": [
    {
     "name": "stdout",
     "output_type": "stream",
     "text": [
      "raiz aproximada é:  3\n"
     ]
    }
   ],
   "source": [
    "num = int(input(\"Digite o valor\"))\n",
    "raiz = 0 \n",
    "for i in range (num):\n",
    "# digite seu codigo\n",
    "   raiz = i\n",
    "   if (raiz + 1) *(raiz +1 ) > num:\n",
    "         break;\n",
    "print(\"raiz aproximada é: \", raiz)                   "
   ]
  },
  {
   "cell_type": "code",
   "execution_count": 36,
   "metadata": {},
   "outputs": [
    {
     "name": "stdout",
     "output_type": "stream",
     "text": [
      "Cpf invalido 52288166827 22222222242\n"
     ]
    }
   ],
   "source": [
    "# teste CPF\n",
    "cpf = input(\"Digite o cpf (Somente numero, 11 digitos): !\")\n",
    "cpf_sem_dg = \"\"\n",
    "soma=0 \n",
    "for i in range(9):\n",
    "        soma += int(cpf[i]) * (10 -1)\n",
    "        cpf_sem_dg += cpf[1]\n",
    "# calculo primeiro difito\n",
    "dg1 =soma * 10 % 11\n",
    "if dg1 > 9: dg1 = 0\n",
    "soma = 0\n",
    "for i in range(9):\n",
    "        soma += int(cpf[i]) * (11 -1)\n",
    "# calculo digito 2 \n",
    "dg2 = soma * 10 % 11\n",
    "if dg2 > 9: dg2 = 0\n",
    "# Montando cpf calculado\n",
    "cpf_sem_dg += str(dg1) + str(dg2)\n",
    "if cpf != cpf_sem_dg:\n",
    "    print(\"Cpf invalido\", cpf, cpf_sem_dg)\n",
    "else: \n",
    "    print(\"CPF valido\", cpf, cpf_sem_dg)        "
   ]
  },
  {
   "cell_type": "markdown",
   "metadata": {},
   "source": [
    "# 3.3 Logica e operadores bit-a-bit\n",
    "### operadores logicos and, or e not \n",
    "| A | B | A and B | A or B | not A |\n",
    "| - | - | :-: | :-: | :-: |\n",
    "| True | True | True | True | False |\n",
    "| True | False | False | True | False|\n",
    "| False | True | False | True | True |\n",
    "| False | False | False | False | True |  "
   ]
  },
  {
   "cell_type": "code",
   "execution_count": 39,
   "metadata": {},
   "outputs": [
    {
     "name": "stdout",
     "output_type": "stream",
     "text": [
      "Pode dirigir sem restrições, desde com carta.\n"
     ]
    }
   ],
   "source": [
    "idade = 19 \n",
    "if idade>=18 and idade<=60:\n",
    "    print(\"Pode dirigir sem restrições, desde com carta.\")\n",
    "idade = 10 \n",
    "while idade<18 or idade>60:\n",
    "     idade = int(input(\"Digite uma idade entre 18 e 60:\" ))\n",
    "     if idade<18 or idade>60: print(\"idade invalida!\")\n",
    "     if not(idade>=18 and idade<=60): print(\"idade invalida\")\n",
    "# Só vai sair do laço com uma idade entre 18 e 60         "
   ]
  },
  {
   "cell_type": "code",
   "execution_count": 44,
   "metadata": {},
   "outputs": [
    {
     "name": "stdout",
     "output_type": "stream",
     "text": [
      "idade invalida!\n"
     ]
    }
   ],
   "source": [
    "idade = int(input(\"Digite uma idade maior que zero\"))\n",
    "if not idade:\n",
    "    print(\"idade invalida!\")"
   ]
  },
  {
   "cell_type": "markdown",
   "metadata": {},
   "source": [
    "### Operadores bit-abit\n",
    "#### Operador de conjunção ( & ) ou and bit-a-bit\n",
    "\n",
    "2 & 3 = 2\n",
    "2 10 &\n",
    "3 11\n",
    "----\n",
    "2 10 "
   ]
  },
  {
   "cell_type": "code",
   "execution_count": null,
   "metadata": {},
   "outputs": [
    {
     "name": "stdout",
     "output_type": "stream",
     "text": [
      "5 0101\n",
      "7 0111 &\n",
      "-------\n",
      "5 0101\n",
      "0b101\n"
     ]
    }
   ],
   "source": [
    "a = 5 \n",
    "b = 7\n",
    "print(a,f\"teste{a:04b}\")\n",
    "print(b,f\"{b:04b}\",\"&\")\n",
    "print(\"-\"*7)\n",
    "print(a&b,f\"{(a&b):04b}\")\n",
    "print(bin(a))\n"
   ]
  },
  {
   "cell_type": "markdown",
   "metadata": {},
   "source": [
    "#### Operador de disjunção ( | ) ou or bit-a-bit"
   ]
  },
  {
   "cell_type": "code",
   "execution_count": 49,
   "metadata": {},
   "outputs": [
    {
     "name": "stdout",
     "output_type": "stream",
     "text": [
      "5 teste0101\n",
      "7 0111 &\n",
      "-------\n",
      "7 0111\n"
     ]
    }
   ],
   "source": [
    "a = 5 \n",
    "b = 7\n",
    "print(a,f\"teste{a:04b}\")\n",
    "print(b,f\"{b:04b}\",\"&\")\n",
    "print(\"-\"*7)\n",
    "print(a|b,f\"{(a|b):04b}\")"
   ]
  },
  {
   "cell_type": "markdown",
   "metadata": {},
   "source": [
    "#### Operador xor ( ^ ) ou xor exclusivo bit-a-bit\n",
    "5 0101\n",
    "7 0111 ^\n",
    "\n",
    "------\n",
    "2 0010"
   ]
  },
  {
   "cell_type": "markdown",
   "metadata": {},
   "source": [
    "#### Completo ( ~) \n",
    "~5 = -6"
   ]
  },
  {
   "cell_type": "code",
   "execution_count": 54,
   "metadata": {},
   "outputs": [
    {
     "name": "stdout",
     "output_type": "stream",
     "text": [
      "-6\n",
      "5\n"
     ]
    }
   ],
   "source": [
    "print(~5)\n",
    "print(~-6)"
   ]
  },
  {
   "cell_type": "markdown",
   "metadata": {},
   "source": [
    "#### deslocamento de bit para esquerda ( << )\n",
    "1 << 2 resulta em 100\n"
   ]
  },
  {
   "cell_type": "code",
   "execution_count": 55,
   "metadata": {},
   "outputs": [
    {
     "name": "stdout",
     "output_type": "stream",
     "text": [
      "4 0100\n"
     ]
    }
   ],
   "source": [
    "print(1 << 2, f\"{(1<<2):04b}\")\n"
   ]
  },
  {
   "cell_type": "markdown",
   "metadata": {},
   "source": [
    "#### Deslocamento de bit para direita ( >> ) \n",
    "5 >> 2 resulta em 1 "
   ]
  },
  {
   "cell_type": "code",
   "execution_count": 57,
   "metadata": {},
   "outputs": [
    {
     "name": "stdout",
     "output_type": "stream",
     "text": [
      "1 0001\n"
     ]
    }
   ],
   "source": [
    "print(5 >> 2, f\"{(5 >> 2):04b}\")"
   ]
  },
  {
   "cell_type": "markdown",
   "metadata": {},
   "source": [
    "### Atualizando a tabela de precedencia de operadores\n",
    "| Sequencia | Operador | Descrição |\n",
    "|:-:|:-:| - |\n",
    "| 1 | ** | Exponenciação |\n",
    "| 2 | -,+,~ | Operadores unarios e complementos|\n",
    "| 3 | *,/,//,% | Multiplicação, Divisões e resto |\n",
    "| 5 | <<, >> | Deslocamento de bits |\n",
    "| 6 | & | Conjunção |\n",
    "| 7 | \\| | Disjunção |\n",
    "| 8 | <,<=,>,>=,!=,== | Operadores Relacionais |\n",
    "| 9 | not | operador de negação |\n",
    "| 10 | and | Operador and |\n",
    "| 11 | or | Operador or |\n",
    "| 12 | +=,-+,*=... | Operador atalho | "
   ]
  }
 ],
 "metadata": {
  "kernelspec": {
   "display_name": ".venv",
   "language": "python",
   "name": "python3"
  },
  "language_info": {
   "codemirror_mode": {
    "name": "ipython",
    "version": 3
   },
   "file_extension": ".py",
   "mimetype": "text/x-python",
   "name": "python",
   "nbconvert_exporter": "python",
   "pygments_lexer": "ipython3",
   "version": "3.13.2"
  }
 },
 "nbformat": 4,
 "nbformat_minor": 2
}
