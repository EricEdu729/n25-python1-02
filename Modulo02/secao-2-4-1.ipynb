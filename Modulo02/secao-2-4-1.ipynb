{
 "cells": [
  {
   "cell_type": "markdown",
   "metadata": {},
   "source": [
    "# Variáveis "
   ]
  },
  {
   "cell_type": "code",
   "execution_count": 4,
   "metadata": {},
   "outputs": [
    {
     "name": "stdout",
     "output_type": "stream",
     "text": [
      "45\n",
      "46\n"
     ]
    }
   ],
   "source": [
    "idade = 45\n",
    "print(idade)\n",
    "idade = idade + 1\n",
    "print(idade)\n"
   ]
  },
  {
   "cell_type": "markdown",
   "metadata": {},
   "source": [
    "### Regras para o nome de uma variavel\n",
    "- Deve-se iniciar com letra ou _\n",
    "- Não pode conter caracter especial\n",
    "- Pode-se usar letras, numeros ou _\n",
    "- O python faz diferença entre maiusculas e minusculas \n",
    "- Não pode ser uma palavra reservada do python "
   ]
  },
  {
   "cell_type": "code",
   "execution_count": null,
   "metadata": {},
   "outputs": [
    {
     "name": "stdout",
     "output_type": "stream",
     "text": [
      "1\n"
     ]
    }
   ],
   "source": [
    "_if = 1\n",
    "IF = 2\n",
    "print(_if)"
   ]
  },
  {
   "cell_type": "markdown",
   "metadata": {},
   "source": [
    "### Laboratório 2.4.7\n"
   ]
  },
  {
   "cell_type": "code",
   "execution_count": 10,
   "metadata": {},
   "outputs": [
    {
     "name": "stdout",
     "output_type": "stream",
     "text": [
      "3, 5, 6\n",
      "total de maçâs: 14\n"
     ]
    }
   ],
   "source": [
    "john = 3\n",
    "mary = 5\n",
    "adam = 6\n",
    "print(john, mary, adam, sep=\", \")\n",
    "total_apples = john + mary + adam \n",
    "print(\"total de maçâs:\", total_apples)"
   ]
  },
  {
   "cell_type": "markdown",
   "metadata": {},
   "source": [
    "### operador de atalho \n",
    "\n",
    "operador = operador operação valor => operador operação= valor \n",
    "resumindo \n",
    "idade = idade = 5 => idade += 5 "
   ]
  },
  {
   "cell_type": "code",
   "execution_count": 17,
   "metadata": {},
   "outputs": [
    {
     "name": "stdout",
     "output_type": "stream",
     "text": [
      "7\n",
      "49\n"
     ]
    }
   ],
   "source": [
    "variavel = 2\n",
    "#variavel = variavel + 5\n",
    "variavel +=5\n",
    "print(variavel)\n",
    "#variavel = variavel * 5 + 2\n",
    "variavel *= 5 + 2\n",
    "print(variavel)"
   ]
  },
  {
   "cell_type": "markdown",
   "metadata": {},
   "source": [
    "### Laboratório 2.4.9\n",
    "Variaveis- um simples conversor\n"
   ]
  },
  {
   "cell_type": "code",
   "execution_count": 18,
   "metadata": {},
   "outputs": [
    {
     "name": "stdout",
     "output_type": "stream",
     "text": [
      "7.38 milhas é 11.88 quilômetros\n",
      "12.25 quilômetros é 7.61 milhas\n"
     ]
    }
   ],
   "source": [
    "kilometers = 12.25\n",
    "miles = 7.38\n",
    "one_m_2_k = 1.61\n",
    "miles_to_kilometers = miles * one_m_2_k\n",
    "kilometers_to_miles = kilometers / one_m_2_k\n",
    "\n",
    "print(miles, \"milhas é\", round(miles_to_kilometers, 2), \"quilômetros\")\n",
    "print(kilometers, \"quilômetros é\", round(kilometers_to_miles, 2), \"milhas\")"
   ]
  },
  {
   "cell_type": "markdown",
   "metadata": {},
   "source": [
    "### Laboratório 2-4-10\n",
    "\n",
    "3x3 - 2x2 + 3x - 1\n",
    "\n",
    "Exemplo de entrada\n",
    "x = 0\n",
    "x = 1\n",
    "x = -1\n",
    "\n",
    "Exemplo de saída\n",
    "y = -1.0\n",
    "y = 3.0\n",
    "y = -9.0"
   ]
  },
  {
   "cell_type": "code",
   "execution_count": 22,
   "metadata": {},
   "outputs": [
    {
     "name": "stdout",
     "output_type": "stream",
     "text": [
      "y = -9.0\n"
     ]
    }
   ],
   "source": [
    "x =-1#Codifique seus dados de teste aqui.\n",
    "x = float(x)\n",
    "# Escreva seu código aqui.\n",
    "y = 3*x**3 - 2*x** 2 + 3*x - 1\n",
    "print(\"y =\", y)\n"
   ]
  }
 ],
 "metadata": {
  "kernelspec": {
   "display_name": ".venv",
   "language": "python",
   "name": "python3"
  },
  "language_info": {
   "codemirror_mode": {
    "name": "ipython",
    "version": 3
   },
   "file_extension": ".py",
   "mimetype": "text/x-python",
   "name": "python",
   "nbconvert_exporter": "python",
   "pygments_lexer": "ipython3",
   "version": "3.13.2"
  }
 },
 "nbformat": 4,
 "nbformat_minor": 2
}
