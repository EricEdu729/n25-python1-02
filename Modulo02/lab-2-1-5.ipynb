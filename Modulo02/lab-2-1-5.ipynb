{
 "cells": [
  {
   "cell_type": "markdown",
   "metadata": {},
   "source": [
    "# Laboratório 2-1-5"
   ]
  },
  {
   "cell_type": "code",
   "execution_count": null,
   "metadata": {},
   "outputs": [
    {
     "name": "stdout",
     "output_type": "stream",
     "text": [
      "Olá, Python!\n",
      "Eric\n"
     ]
    }
   ],
   "source": [
    "print(\"Olá, Python!\")\n",
    "print ('Eric')\n",
    "\n",
    "\n"
   ]
  },
  {
   "cell_type": "markdown",
   "metadata": {},
   "source": [
    "### Continuando sobre o print\n"
   ]
  },
  {
   "cell_type": "code",
   "execution_count": 8,
   "metadata": {},
   "outputs": [
    {
     "name": "stdout",
     "output_type": "stream",
     "text": [
      "A pequenina aranha escalou a tromba d'água.\n",
      "\n",
      "Caiu a chuva e lavou a aranha.\n"
     ]
    }
   ],
   "source": [
    "print(\"A pequenina aranha escalou a tromba d'água.\")\n",
    "print()\n",
    "print(\"Caiu a chuva e lavou a aranha.\")"
   ]
  },
  {
   "cell_type": "code",
   "execution_count": 11,
   "metadata": {},
   "outputs": [
    {
     "name": "stdout",
     "output_type": "stream",
     "text": [
      "\"\n",
      "//\n",
      "1234\t5678\t90\n"
     ]
    }
   ],
   "source": [
    "print(\"\\\"\")\n",
    "print(\"//\")\n",
    "print(\"1234\\t5678\\t90\")\n"
   ]
  },
  {
   "cell_type": "markdown",
   "metadata": {},
   "source": [
    "### Print com varios argumentos "
   ]
  },
  {
   "cell_type": "code",
   "execution_count": 12,
   "metadata": {},
   "outputs": [
    {
     "name": "stdout",
     "output_type": "stream",
     "text": [
      "A aranha pequenina subiu a tromba'agua.\n"
     ]
    }
   ],
   "source": [
    "print(\"A aranha pequenina\",\"subiu\",\"a tromba'agua.\")"
   ]
  },
  {
   "cell_type": "markdown",
   "metadata": {},
   "source": [
    "### Argumento palavra chave (nomeado)"
   ]
  },
  {
   "cell_type": "code",
   "execution_count": 17,
   "metadata": {},
   "outputs": [
    {
     "name": "stdout",
     "output_type": "stream",
     "text": [
      "Meu nome é Python. Monty Python.\n",
      "Meu-nome-é-Monty-Python.\n"
     ]
    }
   ],
   "source": [
    "print(\"Meu nome é\", \"Python.\", end=\" \")\n",
    "print(\"Monty Python.\")\n",
    "print(\"Meu\", \"nome\", \"é\", \"Monty\", \"Python.\", sep=\"-\")\n",
    "\n",
    "\n"
   ]
  },
  {
   "cell_type": "markdown",
   "metadata": {},
   "source": [
    "## Laboratório 2-1-12\n",
    "#### Saida esperada:\n",
    "´´´python\n",
    "print(\"Olá mundo\")\n",
    "Programação***Essencias***em...Python \n",
    "´´´"
   ]
  },
  {
   "cell_type": "code",
   "execution_count": 18,
   "metadata": {},
   "outputs": [
    {
     "name": "stdout",
     "output_type": "stream",
     "text": [
      "progrmação***Essenciais***Em...Python\n"
     ]
    }
   ],
   "source": [
    "print(\"progrmação\",\"Essenciais\",\"Em\",sep=\"***\",end=\"...\")\n",
    "print(\"Python\")\n"
   ]
  },
  {
   "cell_type": "markdown",
   "metadata": {},
   "source": [
    "# Isso eu não posso fazer\n",
    "print(sep=\"-\",\"argumento1\"argumento2\")\n"
   ]
  },
  {
   "cell_type": "code",
   "execution_count": 24,
   "metadata": {},
   "outputs": [
    {
     "name": "stdout",
     "output_type": "stream",
     "text": [
      "argumento1***argumento2\n"
     ]
    }
   ],
   "source": [
    "print(\"argumento1\",\"argumento2\",sep=\"***\")\n",
    "\n"
   ]
  },
  {
   "cell_type": "markdown",
   "metadata": {},
   "source": [
    "### Laboratório 2-1-13"
   ]
  },
  {
   "cell_type": "code",
   "execution_count": 34,
   "metadata": {},
   "outputs": [
    {
     "name": "stdout",
     "output_type": "stream",
     "text": [
      "     *          *          *          *     \n",
      "   *   *      *   *      *   *      *   *   \n",
      "  *     *    *     *    *     *    *     *  \n",
      " *       *  *       *  *       *  *       * \n",
      " ***   ***  ***   ***  ***   ***  ***   *** \n",
      "   *   *      *   *      *   *      *   *   \n",
      "   *   *      *   *      *   *      *   *   \n",
      "   *****      *****      *****      *****   \n"
     ]
    }
   ],
   "source": [
    "\n",
    "print(\"     *     \"*4)\n",
    "print(\"   *   *   \"*4)\n",
    "print(\"  *     *  \"*4)\n",
    "print(\" *       * \"*4)\n",
    "print(\" ***   *** \"*4)\n",
    "print(\"   *   *   \"*4)\n",
    "print(\"   *   *   \"*4)\n",
    "print(\"   *****   \"*4)"
   ]
  }
 ],
 "metadata": {
  "kernelspec": {
   "display_name": ".venv",
   "language": "python",
   "name": "python3"
  },
  "language_info": {
   "codemirror_mode": {
    "name": "ipython",
    "version": 3
   },
   "file_extension": ".py",
   "mimetype": "text/x-python",
   "name": "python",
   "nbconvert_exporter": "python",
   "pygments_lexer": "ipython3",
   "version": "3.13.2"
  }
 },
 "nbformat": 4,
 "nbformat_minor": 2
}
