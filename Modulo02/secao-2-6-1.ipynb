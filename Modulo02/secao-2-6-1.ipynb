{
 "cells": [
  {
   "cell_type": "markdown",
   "metadata": {},
   "source": [
    " # interação com o Usuario\n",
    " \"\"\" Função input()"
   ]
  },
  {
   "cell_type": "code",
   "execution_count": 2,
   "metadata": {},
   "outputs": [
    {
     "name": "stdout",
     "output_type": "stream",
     "text": [
      "digite sua idade\n",
      "Voce tem 19 anos.\n"
     ]
    }
   ],
   "source": [
    "print(\"digite sua idade\")\n",
    "idade = input()\n",
    "print(\"Voce tem \" + idade + \" anos.\")"
   ]
  },
  {
   "cell_type": "code",
   "execution_count": 4,
   "metadata": {},
   "outputs": [
    {
     "name": "stdout",
     "output_type": "stream",
     "text": [
      "Você tem 19 anos. \n",
      "<class 'str'>\n"
     ]
    }
   ],
   "source": [
    "idade = input(\"Digite sua idade: \") #passando a mensagem como argumento\n",
    "print(\"Você tem \" + idade + \" anos. \")\n",
    "print(type(idade)) # verificando o tipo da variavel idade"
   ]
  },
  {
   "cell_type": "code",
   "execution_count": null,
   "metadata": {},
   "outputs": [
    {
     "name": "stdout",
     "output_type": "stream",
     "text": [
      "Voce nasceu em 2006.\n",
      "Voce nasceu em 2006.\n"
     ]
    }
   ],
   "source": [
    "# Isso não ser possivel fazer \n",
    "idade = int(input(\"digite sua idade: \")) # se não converter da erro abaixo \n",
    "ano_nascimento = 2025 - idade #erro de tipo,idade é uma string \n",
    "print(\"Voce nasceu em \" +str(ano_nascimento)+ '.') # covertendo o ano para string\n",
    "print(\"Voce nasceu em \",ano_nascimento,\".\",sep=\"\") # usando argumentos do print e sep em espaço"
   ]
  },
  {
   "cell_type": "code",
   "execution_count": 18,
   "metadata": {},
   "outputs": [
    {
     "name": "stdout",
     "output_type": "stream",
     "text": [
      "A temperatura em Fahrenheit é: 77.9°F\n"
     ]
    }
   ],
   "source": [
    "# Desenvolver um programa para solicitar o valor de uma temperatura\n",
    "#em graus celsius e convertela_la para graus Fahrenheit\n",
    "# A formula de conversão é \n",
    "# F = c * 9/5 + 32\n",
    "celsius = float(input(\"Digite a temperatura em Celsius: \" ))\n",
    "fahrenheit = celsius *9/5 + 32\n",
    "print(\"A temperatura em Fahrenheit é: \", fahrenheit, \"°F\", sep=\"\")"
   ]
  },
  {
   "attachments": {
    "image.png": {
     "image/png": "[encoded data removed]"
    }
   },
   "cell_type": "markdown",
   "metadata": {},
   "source": [
    "# Laboratório-2-6-10\n",
    "\n",
    "![image.png](attachment:image.png)"
   ]
  },
  {
   "cell_type": "code",
   "execution_count": 20,
   "metadata": {},
   "outputs": [
    {
     "name": "stdout",
     "output_type": "stream",
     "text": [
      "y = 0.6000000000000001\n"
     ]
    }
   ],
   "source": [
    "x = float(input(\"Digite o valor para x: \"))\n",
    "y = 1./(x + 1./(x + 1./(x + 1./x)))\n",
    "print(\"y =\", y)"
   ]
  },
  {
   "cell_type": "markdown",
   "metadata": {},
   "source": [
    "# Laboratório 2.6.11\n"
   ]
  },
  {
   "cell_type": "code",
   "execution_count": 23,
   "metadata": {},
   "outputs": [
    {
     "name": "stdout",
     "output_type": "stream",
     "text": [
      "23.0\n"
     ]
    }
   ],
   "source": [
    "hour = int(input(\"Hora de início (horas): \"))\n",
    "mins = int(input(\"Hora de início (minutos): \"))\n",
    "dura = int(input(\"Duração do evento (minutos): \"))\n",
    "#escreva seu codigo aqui.\n",
    "tempo_total = hour *60 + mins +dura # converte tudo para minutos\n",
    "hora_final = tempo_total // 60 % 24 # pega o resto da divisão \n",
    "minuto_final = tempo_total % 60 # oega o resto da divisão\n",
    "# imprimir o resultado em horas e minutos\n",
    "print(hora_final, minuto_final, sep=\".\")\n",
    "\n"
   ]
  }
 ],
 "metadata": {
  "kernelspec": {
   "display_name": ".venv",
   "language": "python",
   "name": "python3"
  },
  "language_info": {
   "codemirror_mode": {
    "name": "ipython",
    "version": 3
   },
   "file_extension": ".py",
   "mimetype": "text/x-python",
   "name": "python",
   "nbconvert_exporter": "python",
   "pygments_lexer": "ipython3",
   "version": "3.13.2"
  }
 },
 "nbformat": 4,
 "nbformat_minor": 2
}
