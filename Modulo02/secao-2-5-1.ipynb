{
 "cells": [
  {
   "cell_type": "markdown",
   "metadata": {},
   "source": [
    "# Comentarios"
   ]
  },
  {
   "cell_type": "code",
   "execution_count": null,
   "metadata": {},
   "outputs": [],
   "source": [
    "# Para comentarios de uma linha , use o cacterere #\n",
    "# linha2\n",
    "# Linha#\n",
    "print(\"Hello World\") # comentario após o comando\n",
    "\n"
   ]
  },
  {
   "cell_type": "code",
   "execution_count": null,
   "metadata": {},
   "outputs": [],
   "source": [
    "\"\"\" \n",
    "Para comenatarios de multiplas Linhas, Use aspas triplas \"\n",
    "ou aspas simples triplas.\n",
    "\"\"\"\n",
    "'''Dessa forma tambem funciona\n",
    "'''"
   ]
  }
 ],
 "metadata": {
  "kernelspec": {
   "display_name": ".venv",
   "language": "python",
   "name": "python3"
  },
  "language_info": {
   "name": "python",
   "version": "3.13.2"
  }
 },
 "nbformat": 4,
 "nbformat_minor": 2
}
